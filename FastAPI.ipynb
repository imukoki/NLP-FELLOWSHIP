{
  "cells": [
    {
      "cell_type": "markdown",
      "metadata": {
        "id": "view-in-github",
        "colab_type": "text"
      },
      "source": [
        "<a href=\"https://colab.research.google.com/github/imukoki/NLP-FELLOWSHIP/blob/Week-4/FastAPI.ipynb\" target=\"_parent\"><img src=\"https://colab.research.google.com/assets/colab-badge.svg\" alt=\"Open In Colab\"/></a>"
      ]
    },
    {
      "cell_type": "code",
      "execution_count": null,
      "metadata": {
        "id": "EQbzkEf19jnf"
      },
      "outputs": [],
      "source": [
        "#FastAPI\n",
        "!pip install fastapi pyngrok uvicorn nest-asyncio\n",
        "\n",
        "#Flask\n",
        "#!pip install flask pyngrok gunicorn nest-asyncio"
      ]
    },
    {
      "cell_type": "code",
      "execution_count": null,
      "metadata": {
        "id": "CqmtWYjE6Q1j"
      },
      "outputs": [],
      "source": [
        "# Installing easynmt\n",
        "!pip install -U easynmt"
      ]
    },
    {
      "cell_type": "code",
      "execution_count": null,
      "metadata": {
        "colab": {
          "base_uri": "https://localhost:8080/"
        },
        "id": "eM05tWxYo3zP",
        "outputId": "4694b103-9834-4c5e-8b13-19c002d97711"
      },
      "outputs": [
        {
          "name": "stdout",
          "output_type": "stream",
          "text": [
            "Authtoken saved to configuration file: /root/.ngrok2/ngrok.yml\n"
          ]
        }
      ],
      "source": [
        "# Allowing ngrok to open a tunnel\n",
        "!ngrok authtoken 2HJPpduu6j6QgvX6BB7eqsWTRYd_5J4T89thPF6eQHiAz5FUQ"
      ]
    },
    {
      "cell_type": "code",
      "execution_count": null,
      "metadata": {
        "id": "k7oQt3wXsHw6"
      },
      "outputs": [],
      "source": [
        "# Implementing the API\n",
        "from fastapi import FastAPI, Request\n",
        "from fastapi.responses import HTMLResponse\n",
        "from datetime import datetime\n",
        "from easynmt import EasyNMT\n",
        "\n",
        "model = EasyNMT('opus-mt')\n",
        "storage = FastAPI(title='MY FASTAPI')\n",
        "\n",
        "@storage.get('/')\n",
        "def index():\n",
        "    return \"My name is Innocent, This is my first API\"\n",
        "\n",
        "@storage.get('/today')\n",
        "def today():\n",
        "    return str(datetime.now())\n",
        "\n",
        "@storage.get('/my_name')\n",
        "def names(first_name: bool = False, last_name: bool = False, full_name_: bool=False):\n",
        "\n",
        "    full_name = \"\"\n",
        "    if first_name:\n",
        "        full_name += 'Innocent'\n",
        "    if last_name:\n",
        "        full_name += ' Mukoki'\n",
        "    if full_name_:\n",
        "        full_name = 'My name is Innocent Mukoki'\n",
        "    return full_name\n",
        "\n",
        "@storage.get('/translation')\n",
        "def translate(text : str = ''):\n",
        "  response = model.translate([text], target_lang = 'fr')\n",
        "  return response[0]\n",
        "\n",
        "# This helps to create a dialogue box for people interacting with the API\n",
        "@storage.get('/translation-form', response_class=HTMLResponse)\n",
        "def form():\n",
        "  content = f\"\"\"\n",
        "  <html>\n",
        "  <form action='/translation' method='GET'>\n",
        "  <input type='text' name='text' placeholder='Please Input your Sentence'>\n",
        "  <input type='submit' value='submit'>\n",
        "  </form>\n",
        "  </html>\n",
        "  \"\"\"\n",
        "  return content"
      ]
    },
    {
      "cell_type": "code",
      "execution_count": null,
      "metadata": {
        "colab": {
          "background_save": true,
          "base_uri": "https://localhost:8080/"
        },
        "id": "1uF5xK19wQGM",
        "outputId": "69528da9-1757-402a-fbe1-2f58eed0a033"
      },
      "outputs": [
        {
          "name": "stdout",
          "output_type": "stream",
          "text": [
            "REST API started\n",
            "Your public API URL: http://5b1d-34-142-146-250.ngrok.io\n",
            "You can for example open the following URL in your browser: http://5b1d-34-142-146-250.ngrok.io?target_lang=en&text=Hallo%20Welt\n"
          ]
        },
        {
          "name": "stderr",
          "output_type": "stream",
          "text": [
            "INFO:     Started server process [78]\n",
            "INFO:     Waiting for application startup.\n",
            "INFO:     Application startup complete.\n",
            "INFO:     Uvicorn running on http://127.0.0.1:8000 (Press CTRL+C to quit)\n"
          ]
        },
        {
          "name": "stdout",
          "output_type": "stream",
          "text": [
            "INFO:     102.22.164.159:0 - \"GET /translation-form HTTP/1.1\" 200 OK\n",
            "INFO:     102.22.164.159:0 - \"GET /favicon.ico HTTP/1.1\" 404 Not Found\n"
          ]
        },
        {
          "name": "stderr",
          "output_type": "stream",
          "text": [
            "/usr/local/lib/python3.7/dist-packages/transformers/models/marian/tokenization_marian.py:194: UserWarning: Recommended: pip install sacremoses.\n",
            "  warnings.warn(\"Recommended: pip install sacremoses.\")\n"
          ]
        },
        {
          "name": "stdout",
          "output_type": "stream",
          "text": [
            "INFO:     102.22.164.159:0 - \"GET /translation?text=Hello%2C+my+name+is+Innocent HTTP/1.1\" 200 OK\n"
          ]
        },
        {
          "name": "stderr",
          "output_type": "stream",
          "text": [
            "/usr/local/lib/python3.7/dist-packages/transformers/generation_utils.py:1364: UserWarning: Neither `max_length` nor `max_new_tokens` has been set, `max_length` will default to 512 (`self.config.max_length`). Controlling `max_length` via the config is deprecated and `max_length` will be removed from the config in v5 of Transformers -- we recommend using `max_new_tokens` to control the maximum length of the generation.\n",
            "  UserWarning,\n"
          ]
        }
      ],
      "source": [
        "# The ngrok tunnel\n",
        "import nest_asyncio\n",
        "from pyngrok import ngrok\n",
        "import uvicorn\n",
        "\n",
        "ngrok_tunnel = ngrok.connect(8000)\n",
        "print(\"REST API started\")\n",
        "print(\"Your public API URL:\", ngrok_tunnel.public_url)\n",
        "print(\"You can for example open the following URL in your browser: {}?target_lang=en&text=Hallo%20Welt\".format(ngrok_tunnel.public_url))\n",
        "\n",
        "nest_asyncio.apply()\n",
        "uvicorn.run(storage, port=8000)\n"
      ]
    }
  ],
  "metadata": {
    "accelerator": "GPU",
    "colab": {
      "provenance": [],
      "authorship_tag": "ABX9TyP3rbmB4U1MD4+1QHKw8P/z",
      "include_colab_link": true
    },
    "gpuClass": "standard",
    "kernelspec": {
      "display_name": "Python 3",
      "name": "python3"
    },
    "language_info": {
      "name": "python"
    }
  },
  "nbformat": 4,
  "nbformat_minor": 0
}