{
  "nbformat": 4,
  "nbformat_minor": 0,
  "metadata": {
    "colab": {
      "provenance": [],
      "collapsed_sections": [],
      "include_colab_link": true
    },
    "kernelspec": {
      "name": "python3",
      "display_name": "Python 3"
    },
    "language_info": {
      "name": "python"
    }
  },
  "cells": [
    {
      "cell_type": "markdown",
      "metadata": {
        "id": "view-in-github",
        "colab_type": "text"
      },
      "source": [
        "<a href=\"https://colab.research.google.com/github/imukoki/NLP-FELLOWSHIP/blob/Week-3/Text_To_Features.ipynb\" target=\"_parent\"><img src=\"https://colab.research.google.com/assets/colab-badge.svg\" alt=\"Open In Colab\"/></a>"
      ]
    },
    {
      "cell_type": "markdown",
      "source": [
        "# Text to features\n",
        "This is the process of converting tokens to numbers. This is because the machine only works with numbers. Moreover, for manipulation of text, the tokens need to be in digit form to apply any transformations.\n",
        "\n",
        "The input of the function will be the matrix of tokens and output will be matrix with digits."
      ],
      "metadata": {
        "id": "ogRvOeRI4kHK"
      }
    },
    {
      "cell_type": "markdown",
      "source": [
        "## Simplest form of featurization\n",
        "The simplest way is to assign each unique text a number starting from 0 and increase by one until all the text has been assigned numbers"
      ],
      "metadata": {
        "id": "7fPAtFjX4ibA"
      }
    },
    {
      "cell_type": "code",
      "source": [
        "import numpy as np"
      ],
      "metadata": {
        "id": "1xFBIupW8mHN"
      },
      "execution_count": 1,
      "outputs": []
    },
    {
      "cell_type": "code",
      "execution_count": 32,
      "metadata": {
        "colab": {
          "base_uri": "https://localhost:8080/"
        },
        "id": "c946TeePQRE8",
        "outputId": "d90796a0-b891-4f3d-c5c3-0d0161ece791"
      },
      "outputs": [
        {
          "output_type": "stream",
          "name": "stdout",
          "text": [
            "{'word': 0, 'for': 1, 'list': 2, 'sentence': 3, 'sentences': 4, 'in': 5, 'this': 6, 'is': 7, 'second': 8, 'a': 9, 'example': 10, 'complexity': 11, 'of': 12}\n"
          ]
        }
      ],
      "source": [
        "# fitting\n",
        "\n",
        "\n",
        "list_sentences = ['this is a list of sentences example', 'second sentence in list of sentence', 'a word for complexity',]\n",
        "all_word = set()\n",
        "#word_to_index = {}\n",
        "#index_to_word = {}\n",
        "\n",
        "for sent in list_sentences:\n",
        "    #split the sentence into words and adding words into a set\n",
        "    all_word.update(sent.split())\n",
        "  \n",
        "# Creating dictionaries    \n",
        "word_to_index = dict(zip(all_word, range(len(all_word))))\n",
        "index_to_word = dict(zip(range(len(all_word)), all_word))\n",
        "print(word_to_index)"
      ]
    },
    {
      "cell_type": "markdown",
      "source": [
        "## Bag Of Words (BoW)\n",
        "* Split the sentences into words\n",
        "* Create a dictionary with all unique words and their indices\n",
        "* Create a vector, size same as the total number of unique words\n",
        "* For every word in a sentence, get the index and add 1. \n",
        "* The result will be a vector for each sentence with length same as all the unique words in all sentences, with frequency of each word in one particular sentence. If a word is not in that sentence, the frequency is 0\n"
      ],
      "metadata": {
        "id": "50_WtShe7PiY"
      }
    },
    {
      "cell_type": "code",
      "source": [
        "transformed_list_words = np.zeros(len(all_word))\n",
        "transformed_list_words"
      ],
      "metadata": {
        "colab": {
          "base_uri": "https://localhost:8080/"
        },
        "id": "qHgk8BI8ATf9",
        "outputId": "d1949d21-e1e0-4955-98eb-a11304dc3480"
      },
      "execution_count": 3,
      "outputs": [
        {
          "output_type": "execute_result",
          "data": {
            "text/plain": [
              "array([0., 0., 0., 0., 0., 0., 0., 0., 0., 0., 0., 0., 0.])"
            ]
          },
          "metadata": {},
          "execution_count": 3
        }
      ]
    },
    {
      "cell_type": "code",
      "source": [
        "# Create a vector, size same as the total number of unique words\n",
        "\n",
        "transformed_list_sentences = np.empty((len(list_sentences),len(all_word)))\n",
        "transformed_list_sentences"
      ],
      "metadata": {
        "colab": {
          "base_uri": "https://localhost:8080/"
        },
        "id": "VC6dK9CD6oIc",
        "outputId": "8856a24e-35d6-4b72-c2c3-67cd9736db8e"
      },
      "execution_count": 4,
      "outputs": [
        {
          "output_type": "execute_result",
          "data": {
            "text/plain": [
              "array([[ 2.33582538e-316,  2.33419537e-312,  2.16443571e-312,\n",
              "         2.41907520e-312,  2.14321575e-312,  2.01589600e-312,\n",
              "         2.22809558e-312,  2.46151512e-312,  2.52517499e-312,\n",
              "         2.41907520e-312,  2.44029516e-312,  1.29441743e-312,\n",
              "         2.33419537e-312],\n",
              "       [ 9.76118064e-313,  2.14321575e-312,  2.35541533e-312,\n",
              "         8.48798317e-313,  2.14321575e-312,  8.48798317e-313,\n",
              "         2.29175545e-312,  2.01589600e-312,  2.35541533e-312,\n",
              "         2.12199579e-312,  8.70018274e-313,  2.46151512e-312,\n",
              "         2.05833592e-312],\n",
              "       [ 2.44029516e-312,  2.35541533e-312,  2.31297541e-312,\n",
              "         2.12199579e-312,  2.29175545e-312,  2.44029516e-312,\n",
              "         2.01589600e-312,  2.35541533e-312,  2.12199579e-312,\n",
              "        -7.61117174e+190,  6.91661028e-310,  6.91661028e-310,\n",
              "         1.53437343e+162]])"
            ]
          },
          "metadata": {},
          "execution_count": 4
        }
      ]
    },
    {
      "cell_type": "code",
      "source": [
        "for row,sentence in enumerate(list_sentences):\n",
        "    #replace row with sentence BoW\n",
        "    \n",
        "    \n",
        "    transformed_list_words = np.zeros(len(all_word))\n",
        "    for word in sentence.split():\n",
        "        if word in all_word:\n",
        "            #get the index of the word\n",
        "            word_index = word_to_index[word]\n",
        "            #increase the value by 1\n",
        "            transformed_list_words[word_index]+=1\n",
        "            #print(transformed_list_words)\n",
        "\n",
        "    transformed_list_sentences[row] =  transformed_list_words\n",
        "\n",
        "print(dict(sorted(word_to_index.items(), key=lambda item: item[1])))\n",
        "transformed_list_sentences\n"
      ],
      "metadata": {
        "colab": {
          "base_uri": "https://localhost:8080/"
        },
        "id": "U2FAvxz58tdT",
        "outputId": "aedf88e2-31e9-477a-b484-2f96e657720b"
      },
      "execution_count": 5,
      "outputs": [
        {
          "output_type": "stream",
          "name": "stdout",
          "text": [
            "{'word': 0, 'for': 1, 'list': 2, 'sentence': 3, 'sentences': 4, 'in': 5, 'this': 6, 'is': 7, 'second': 8, 'a': 9, 'example': 10, 'complexity': 11, 'of': 12}\n"
          ]
        },
        {
          "output_type": "execute_result",
          "data": {
            "text/plain": [
              "array([[0., 0., 1., 0., 1., 0., 1., 1., 0., 1., 1., 0., 1.],\n",
              "       [0., 0., 1., 2., 0., 1., 0., 0., 1., 0., 0., 0., 1.],\n",
              "       [1., 1., 0., 0., 0., 0., 0., 0., 0., 1., 0., 1., 0.]])"
            ]
          },
          "metadata": {},
          "execution_count": 5
        }
      ]
    },
    {
      "cell_type": "code",
      "source": [
        "test_sentence = 'this is an example of sentence with sentence that are complexity with many example'\n",
        "transformed_list_words = np.zeros(len(all_word))\n",
        "for word in test_sentence.split():\n",
        "    if word in all_word:\n",
        "        #get the index of the word\n",
        "        word_index = word_to_index[word]\n",
        "        #increase the value by 1\n",
        "        transformed_list_words[word_index]+=1\n",
        "        #print(transformed_list_words)\n",
        "transformed_list_words"
      ],
      "metadata": {
        "colab": {
          "base_uri": "https://localhost:8080/"
        },
        "id": "8Fvt-uF0-L80",
        "outputId": "ac19de28-e2ca-4d6e-acbf-02ab711eca44"
      },
      "execution_count": 6,
      "outputs": [
        {
          "output_type": "execute_result",
          "data": {
            "text/plain": [
              "array([0., 0., 0., 2., 0., 0., 1., 1., 0., 0., 2., 1., 1.])"
            ]
          },
          "metadata": {},
          "execution_count": 6
        }
      ]
    },
    {
      "cell_type": "markdown",
      "source": [
        "## In-class Practicals\n",
        "\n",
        "Convert this into a class and functions:\n"
      ],
      "metadata": {
        "id": "KcGCl8LTEiZG"
      }
    },
    {
      "cell_type": "code",
      "source": [
        "class Bow:\n",
        "    def __init__(self):\n",
        "        # Enter code here\n",
        "      self.all_word = set()\n",
        "\n",
        "    def fit(self,document):\n",
        "      #Enter code\n",
        "      for sent in document:\n",
        "        self.all_word.update(sent.strip())\n",
        "        self.word_to_index = dict(zip(self.all_word, range(len(self.all_word))))\n",
        "        self.index_to_word = dict(zip(range(len(self.all_word)), self.all_word))\n",
        "        \n",
        "\n",
        "    def transform(self,data):\n",
        "      #Enter code\n",
        "      for row,sentence in enumerate(data): \n",
        "        transformed_list_words = np.zeros(len(all_word))\n",
        "        for word in sentence.split():\n",
        "            if word in all_word:\n",
        "                #get the index of the word\n",
        "                word_index = word_to_index[word]\n",
        "                #increase the value by 1\n",
        "                transformed_list_words[word_index]+=1\n",
        "                #print(transformed_list_words)\n",
        "        transformed_list_sentences[row] =  transformed_list_words\n",
        "\n",
        "      return transformed_list_sentences\n",
        "\n",
        "    def fit_transform(self,data):\n",
        "      self.fit(data)\n",
        "\n",
        "      return self.transform(data)\n",
        "\n",
        "    def _transform_single(self,list_words):\n",
        "      # This code is for transforming a single sentence\n",
        "      transformed_list_words = np.zeros(len(all_word))\n",
        "      for word in test_sentence.split():\n",
        "          if word in all_word:\n",
        "              #get the index of the word\n",
        "              word_index = word_to_index[word]\n",
        "              #increase the value by 1\n",
        "              transformed_list_words[word_index]+=1\n",
        "\n",
        "      return transformed_list_words"
      ],
      "metadata": {
        "id": "kIl-wPg9RZq0"
      },
      "execution_count": 42,
      "outputs": []
    },
    {
      "cell_type": "markdown",
      "source": [
        "## Assignment\n",
        "BOW using your tokens and share some sentences to text"
      ],
      "metadata": {
        "id": "KESkmMIaLCJY"
      }
    },
    {
      "cell_type": "code",
      "source": [
        "# The Bow object\n",
        "bow = Bow()\n",
        "\n",
        "# Fitting the words\n",
        "bow.fit(list_sentences)\n",
        "\n",
        "# Transforming the words\n",
        "print(bow.transform(list_sentences))\n",
        "\n",
        "print('-'*41)\n",
        "# Fitting and transforming the words\n",
        "print(bow.fit_transform(list_sentences))\n",
        "\n",
        "print('-'*41)\n",
        "# Transforming a sentence\n",
        "print(bow._transform_single(test_sentence))\n"
      ],
      "metadata": {
        "colab": {
          "base_uri": "https://localhost:8080/"
        },
        "id": "IQPGb6lzGAUX",
        "outputId": "a3a5951d-7cc4-49d6-f480-0e62e36bd1e6"
      },
      "execution_count": 50,
      "outputs": [
        {
          "output_type": "stream",
          "name": "stdout",
          "text": [
            "[[0. 0. 1. 0. 1. 0. 1. 1. 0. 1. 1. 0. 1.]\n",
            " [0. 0. 1. 2. 0. 1. 0. 0. 1. 0. 0. 0. 1.]\n",
            " [1. 1. 0. 0. 0. 0. 0. 0. 0. 1. 0. 1. 0.]]\n",
            "-----------------------------------------\n",
            "[[0. 0. 1. 0. 1. 0. 1. 1. 0. 1. 1. 0. 1.]\n",
            " [0. 0. 1. 2. 0. 1. 0. 0. 1. 0. 0. 0. 1.]\n",
            " [1. 1. 0. 0. 0. 0. 0. 0. 0. 1. 0. 1. 0.]]\n",
            "-----------------------------------------\n",
            "[0. 0. 0. 2. 0. 0. 1. 1. 0. 0. 2. 1. 1.]\n"
          ]
        }
      ]
    }
  ]
}